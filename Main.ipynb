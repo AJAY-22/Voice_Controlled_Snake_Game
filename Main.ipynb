{
 "cells": [
  {
   "cell_type": "code",
   "execution_count": 2,
   "id": "2c2a7d1c",
   "metadata": {},
   "outputs": [
    {
     "name": "stdout",
     "output_type": "stream",
     "text": [
      "Note: you may need to restart the kernel to use updated packages.Requirement already satisfied: tensorflow in c:\\users\\91726\\desktop\\pythonvenvs\\newproject\\lib\\site-packages (2.12.0)\n",
      "Requirement already satisfied: tensorflow-intel==2.12.0 in c:\\users\\91726\\desktop\\pythonvenvs\\newproject\\lib\\site-packages (from tensorflow) (2.12.0)\n",
      "Requirement already satisfied: h5py>=2.9.0 in c:\\users\\91726\\desktop\\pythonvenvs\\newproject\\lib\\site-packages (from tensorflow-intel==2.12.0->tensorflow) (3.9.0)\n",
      "Requirement already satisfied: jax>=0.3.15 in c:\\users\\91726\\desktop\\pythonvenvs\\newproject\\lib\\site-packages (from tensorflow-intel==2.12.0->tensorflow) (0.4.13)\n",
      "Requirement already satisfied: opt-einsum>=2.3.2 in c:\\users\\91726\\desktop\\pythonvenvs\\newproject\\lib\\site-packages (from tensorflow-intel==2.12.0->tensorflow) (3.3.0)\n",
      "Requirement already satisfied: packaging in c:\\users\\91726\\desktop\\pythonvenvs\\newproject\\lib\\site-packages (from tensorflow-intel==2.12.0->tensorflow) (23.1)\n",
      "Requirement already satisfied: protobuf!=4.21.0,!=4.21.1,!=4.21.2,!=4.21.3,!=4.21.4,!=4.21.5,<5.0.0dev,>=3.20.3 in c:\\users\\91726\\desktop\\pythonvenvs\\newproject\\lib\\site-packages (from tensorflow-intel==2.12.0->tensorflow) (4.23.3)\n",
      "Requirement already satisfied: termcolor>=1.1.0 in c:\\users\\91726\\desktop\\pythonvenvs\\newproject\\lib\\site-packages (from tensorflow-intel==2.12.0->tensorflow) (2.3.0)\n",
      "Requirement already satisfied: six>=1.12.0 in c:\\users\\91726\\desktop\\pythonvenvs\\newproject\\lib\\site-packages (from tensorflow-intel==2.12.0->tensorflow) (1.16.0)\n",
      "Requirement already satisfied: google-pasta>=0.1.1 in c:\\users\\91726\\desktop\\pythonvenvs\\newproject\\lib\\site-packages (from tensorflow-intel==2.12.0->tensorflow) (0.2.0)\n",
      "Requirement already satisfied: grpcio<2.0,>=1.24.3 in c:\\users\\91726\\desktop\\pythonvenvs\\newproject\\lib\\site-packages (from tensorflow-intel==2.12.0->tensorflow) (1.56.0)\n",
      "Requirement already satisfied: keras<2.13,>=2.12.0 in c:\\users\\91726\\desktop\\pythonvenvs\\newproject\\lib\\site-packages (from tensorflow-intel==2.12.0->tensorflow) (2.12.0)\n",
      "Requirement already satisfied: wrapt<1.15,>=1.11.0 in c:\\users\\91726\\desktop\\pythonvenvs\\newproject\\lib\\site-packages (from tensorflow-intel==2.12.0->tensorflow) (1.14.1)\n",
      "Requirement already satisfied: gast<=0.4.0,>=0.2.1 in c:\\users\\91726\\desktop\\pythonvenvs\\newproject\\lib\\site-packages (from tensorflow-intel==2.12.0->tensorflow) (0.4.0)\n",
      "Requirement already satisfied: tensorflow-io-gcs-filesystem>=0.23.1 in c:\\users\\91726\\desktop\\pythonvenvs\\newproject\\lib\\site-packages (from tensorflow-intel==2.12.0->tensorflow) (0.31.0)\n",
      "Requirement already satisfied: numpy<1.24,>=1.22 in c:\\users\\91726\\desktop\\pythonvenvs\\newproject\\lib\\site-packages (from tensorflow-intel==2.12.0->tensorflow) (1.23.5)\n",
      "Requirement already satisfied: flatbuffers>=2.0 in c:\\users\\91726\\desktop\\pythonvenvs\\newproject\\lib\\site-packages (from tensorflow-intel==2.12.0->tensorflow) (23.5.26)\n",
      "Requirement already satisfied: tensorboard<2.13,>=2.12 in c:\\users\\91726\\desktop\\pythonvenvs\\newproject\\lib\\site-packages (from tensorflow-intel==2.12.0->tensorflow) (2.12.3)\n",
      "Requirement already satisfied: astunparse>=1.6.0 in c:\\users\\91726\\desktop\\pythonvenvs\\newproject\\lib\\site-packages (from tensorflow-intel==2.12.0->tensorflow) (1.6.3)\n",
      "Requirement already satisfied: absl-py>=1.0.0 in c:\\users\\91726\\desktop\\pythonvenvs\\newproject\\lib\\site-packages (from tensorflow-intel==2.12.0->tensorflow) (1.4.0)\n",
      "Requirement already satisfied: libclang>=13.0.0 in c:\\users\\91726\\desktop\\pythonvenvs\\newproject\\lib\\site-packages (from tensorflow-intel==2.12.0->tensorflow) (16.0.0)\n",
      "Requirement already satisfied: setuptools in c:\\users\\91726\\desktop\\pythonvenvs\\newproject\\lib\\site-packages (from tensorflow-intel==2.12.0->tensorflow) (56.0.0)\n",
      "Requirement already satisfied: typing-extensions>=3.6.6 in c:\\users\\91726\\desktop\\pythonvenvs\\newproject\\lib\\site-packages (from tensorflow-intel==2.12.0->tensorflow) (4.7.0)\n",
      "Requirement already satisfied: tensorflow-estimator<2.13,>=2.12.0 in c:\\users\\91726\\desktop\\pythonvenvs\\newproject\\lib\\site-packages (from tensorflow-intel==2.12.0->tensorflow) (2.12.0)\n",
      "Requirement already satisfied: wheel<1.0,>=0.23.0 in c:\\users\\91726\\desktop\\pythonvenvs\\newproject\\lib\\site-packages (from astunparse>=1.6.0->tensorflow-intel==2.12.0->tensorflow) (0.40.0)\n",
      "Requirement already satisfied: importlib-metadata>=4.6 in c:\\users\\91726\\desktop\\pythonvenvs\\newproject\\lib\\site-packages (from jax>=0.3.15->tensorflow-intel==2.12.0->tensorflow) (6.7.0)\n",
      "Requirement already satisfied: scipy>=1.7 in c:\\users\\91726\\desktop\\pythonvenvs\\newproject\\lib\\site-packages (from jax>=0.3.15->tensorflow-intel==2.12.0->tensorflow) (1.11.1)\n",
      "Requirement already satisfied: ml-dtypes>=0.1.0 in c:\\users\\91726\\desktop\\pythonvenvs\\newproject\\lib\\site-packages (from jax>=0.3.15->tensorflow-intel==2.12.0->tensorflow) (0.2.0)\n",
      "Requirement already satisfied: zipp>=0.5 in c:\\users\\91726\\desktop\\pythonvenvs\\newproject\\lib\\site-packages (from importlib-metadata>=4.6->jax>=0.3.15->tensorflow-intel==2.12.0->tensorflow) (3.15.0)\n",
      "Requirement already satisfied: tensorboard-data-server<0.8.0,>=0.7.0 in c:\\users\\91726\\desktop\\pythonvenvs\\newproject\\lib\\site-packages (from tensorboard<2.13,>=2.12->tensorflow-intel==2.12.0->tensorflow) (0.7.1)\n",
      "Requirement already satisfied: markdown>=2.6.8 in c:\\users\\91726\\desktop\\pythonvenvs\\newproject\\lib\\site-packages (from tensorboard<2.13,>=2.12->tensorflow-intel==2.12.0->tensorflow) (3.4.3)\n",
      "Requirement already satisfied: requests<3,>=2.21.0 in c:\\users\\91726\\desktop\\pythonvenvs\\newproject\\lib\\site-packages (from tensorboard<2.13,>=2.12->tensorflow-intel==2.12.0->tensorflow) (2.31.0)\n",
      "Requirement already satisfied: google-auth-oauthlib<1.1,>=0.5 in c:\\users\\91726\\desktop\\pythonvenvs\\newproject\\lib\\site-packages (from tensorboard<2.13,>=2.12->tensorflow-intel==2.12.0->tensorflow) (1.0.0)\n",
      "Requirement already satisfied: werkzeug>=1.0.1 in c:\\users\\91726\\desktop\\pythonvenvs\\newproject\\lib\\site-packages (from tensorboard<2.13,>=2.12->tensorflow-intel==2.12.0->tensorflow) (2.3.6)\n",
      "Requirement already satisfied: google-auth<3,>=1.6.3 in c:\\users\\91726\\desktop\\pythonvenvs\\newproject\\lib\\site-packages (from tensorboard<2.13,>=2.12->tensorflow-intel==2.12.0->tensorflow) (2.21.0)\n",
      "Requirement already satisfied: pyasn1-modules>=0.2.1 in c:\\users\\91726\\desktop\\pythonvenvs\\newproject\\lib\\site-packages (from google-auth<3,>=1.6.3->tensorboard<2.13,>=2.12->tensorflow-intel==2.12.0->tensorflow) (0.3.0)\n",
      "Requirement already satisfied: cachetools<6.0,>=2.0.0 in c:\\users\\91726\\desktop\\pythonvenvs\\newproject\\lib\\site-packages (from google-auth<3,>=1.6.3->tensorboard<2.13,>=2.12->tensorflow-intel==2.12.0->tensorflow) (5.3.1)\n",
      "Requirement already satisfied: urllib3<2.0 in c:\\users\\91726\\desktop\\pythonvenvs\\newproject\\lib\\site-packages (from google-auth<3,>=1.6.3->tensorboard<2.13,>=2.12->tensorflow-intel==2.12.0->tensorflow) (1.26.16)\n",
      "Requirement already satisfied: rsa<5,>=3.1.4 in c:\\users\\91726\\desktop\\pythonvenvs\\newproject\\lib\\site-packages (from google-auth<3,>=1.6.3->tensorboard<2.13,>=2.12->tensorflow-intel==2.12.0->tensorflow) (4.9)\n",
      "Requirement already satisfied: requests-oauthlib>=0.7.0 in c:\\users\\91726\\desktop\\pythonvenvs\\newproject\\lib\\site-packages (from google-auth-oauthlib<1.1,>=0.5->tensorboard<2.13,>=2.12->tensorflow-intel==2.12.0->tensorflow) (1.3.1)\n",
      "Requirement already satisfied: pyasn1<0.6.0,>=0.4.6 in c:\\users\\91726\\desktop\\pythonvenvs\\newproject\\lib\\site-packages (from pyasn1-modules>=0.2.1->google-auth<3,>=1.6.3->tensorboard<2.13,>=2.12->tensorflow-intel==2.12.0->tensorflow) (0.5.0)\n",
      "Requirement already satisfied: idna<4,>=2.5 in c:\\users\\91726\\desktop\\pythonvenvs\\newproject\\lib\\site-packages (from requests<3,>=2.21.0->tensorboard<2.13,>=2.12->tensorflow-intel==2.12.0->tensorflow) (3.4)\n",
      "Requirement already satisfied: certifi>=2017.4.17 in c:\\users\\91726\\desktop\\pythonvenvs\\newproject\\lib\\site-packages (from requests<3,>=2.21.0->tensorboard<2.13,>=2.12->tensorflow-intel==2.12.0->tensorflow) (2023.5.7)\n",
      "Requirement already satisfied: charset-normalizer<4,>=2 in c:\\users\\91726\\desktop\\pythonvenvs\\newproject\\lib\\site-packages (from requests<3,>=2.21.0->tensorboard<2.13,>=2.12->tensorflow-intel==2.12.0->tensorflow) (3.1.0)\n",
      "Requirement already satisfied: oauthlib>=3.0.0 in c:\\users\\91726\\desktop\\pythonvenvs\\newproject\\lib\\site-packages (from requests-oauthlib>=0.7.0->google-auth-oauthlib<1.1,>=0.5->tensorboard<2.13,>=2.12->tensorflow-intel==2.12.0->tensorflow) (3.2.2)\n",
      "Requirement already satisfied: MarkupSafe>=2.1.1 in c:\\users\\91726\\desktop\\pythonvenvs\\newproject\\lib\\site-packages (from werkzeug>=1.0.1->tensorboard<2.13,>=2.12->tensorflow-intel==2.12.0->tensorflow) (2.1.3)\n",
      "\n"
     ]
    },
    {
     "name": "stderr",
     "output_type": "stream",
     "text": [
      "WARNING: You are using pip version 21.1.3; however, version 23.1.2 is available.\n",
      "You should consider upgrading via the 'C:\\Users\\91726\\Desktop\\pythonVenvs\\newProject\\Scripts\\python.exe -m pip install --upgrade pip' command.\n"
     ]
    }
   ],
   "source": [
    "pip install tensorflow"
   ]
  },
  {
   "cell_type": "code",
   "execution_count": 2,
   "id": "a518bf5e",
   "metadata": {},
   "outputs": [
    {
     "name": "stdout",
     "output_type": "stream",
     "text": [
      "SPEAK\n"
     ]
    },
    {
     "ename": "OSError",
     "evalue": "[Errno -9996] Invalid input device (no default output device)",
     "output_type": "error",
     "traceback": [
      "\u001b[1;31m---------------------------------------------------------------------------\u001b[0m",
      "\u001b[1;31mOSError\u001b[0m                                   Traceback (most recent call last)",
      "Cell \u001b[1;32mIn[2], line 33\u001b[0m\n\u001b[0;32m     31\u001b[0m time\u001b[39m.\u001b[39msleep(seconds_to_wait)\n\u001b[0;32m     32\u001b[0m \u001b[39mprint\u001b[39m(\u001b[39m\"\u001b[39m\u001b[39mSPEAK\u001b[39m\u001b[39m\"\u001b[39m)\n\u001b[1;32m---> 33\u001b[0m command \u001b[39m=\u001b[39m predict_mic()\n\u001b[0;32m     34\u001b[0m \u001b[39m# final_move = [RIGHT, DOWN, LEFT, UP]\u001b[39;00m\n\u001b[0;32m     35\u001b[0m final_move \u001b[39m=\u001b[39m [\u001b[39m0\u001b[39m, \u001b[39m0\u001b[39m, \u001b[39m0\u001b[39m, \u001b[39m0\u001b[39m]\n",
      "Cell \u001b[1;32mIn[2], line 14\u001b[0m, in \u001b[0;36mpredict_mic\u001b[1;34m()\u001b[0m\n\u001b[0;32m     13\u001b[0m \u001b[39mdef\u001b[39;00m \u001b[39mpredict_mic\u001b[39m():\n\u001b[1;32m---> 14\u001b[0m     audio \u001b[39m=\u001b[39m record_audio()\n\u001b[0;32m     15\u001b[0m     spec \u001b[39m=\u001b[39m preprocess_audiobuffer(audio)\n\u001b[0;32m     16\u001b[0m     prediction \u001b[39m=\u001b[39m loaded_model(spec)\n",
      "File \u001b[1;32mf:\\AI Project\\SnakeVoice\\recording_helper.py:11\u001b[0m, in \u001b[0;36mrecord_audio\u001b[1;34m()\u001b[0m\n\u001b[0;32m     10\u001b[0m \u001b[39mdef\u001b[39;00m \u001b[39mrecord_audio\u001b[39m():\n\u001b[1;32m---> 11\u001b[0m     stream \u001b[39m=\u001b[39m p\u001b[39m.\u001b[39;49mopen(\n\u001b[0;32m     12\u001b[0m         \u001b[39mformat\u001b[39;49m\u001b[39m=\u001b[39;49mFORMAT,\n\u001b[0;32m     13\u001b[0m         channels\u001b[39m=\u001b[39;49mCHANNELS,\n\u001b[0;32m     14\u001b[0m         rate\u001b[39m=\u001b[39;49mRATE,\n\u001b[0;32m     15\u001b[0m         \u001b[39minput\u001b[39;49m\u001b[39m=\u001b[39;49m\u001b[39mTrue\u001b[39;49;00m,\n\u001b[0;32m     16\u001b[0m         frames_per_buffer\u001b[39m=\u001b[39;49mFRAMES_PER_BUFFER\n\u001b[0;32m     17\u001b[0m     )\n\u001b[0;32m     19\u001b[0m     \u001b[39m#print(\"start recording...\")\u001b[39;00m\n\u001b[0;32m     21\u001b[0m     frames \u001b[39m=\u001b[39m []\n",
      "File \u001b[1;32mc:\\Users\\91726\\Desktop\\pythonVenvs\\newProject\\lib\\site-packages\\pyaudio\\__init__.py:639\u001b[0m, in \u001b[0;36mPyAudio.open\u001b[1;34m(self, *args, **kwargs)\u001b[0m\n\u001b[0;32m    631\u001b[0m \u001b[39mdef\u001b[39;00m \u001b[39mopen\u001b[39m(\u001b[39mself\u001b[39m, \u001b[39m*\u001b[39margs, \u001b[39m*\u001b[39m\u001b[39m*\u001b[39mkwargs):\n\u001b[0;32m    632\u001b[0m \u001b[39m    \u001b[39m\u001b[39m\"\"\"Opens a new stream.\u001b[39;00m\n\u001b[0;32m    633\u001b[0m \n\u001b[0;32m    634\u001b[0m \u001b[39m    See constructor for :py:func:`PyAudio.Stream.__init__` for parameter\u001b[39;00m\n\u001b[1;32m   (...)\u001b[0m\n\u001b[0;32m    637\u001b[0m \u001b[39m    :returns: A new :py:class:`PyAudio.Stream`\u001b[39;00m\n\u001b[0;32m    638\u001b[0m \u001b[39m    \"\"\"\u001b[39;00m\n\u001b[1;32m--> 639\u001b[0m     stream \u001b[39m=\u001b[39m PyAudio\u001b[39m.\u001b[39mStream(\u001b[39mself\u001b[39m, \u001b[39m*\u001b[39margs, \u001b[39m*\u001b[39m\u001b[39m*\u001b[39mkwargs)\n\u001b[0;32m    640\u001b[0m     \u001b[39mself\u001b[39m\u001b[39m.\u001b[39m_streams\u001b[39m.\u001b[39madd(stream)\n\u001b[0;32m    641\u001b[0m     \u001b[39mreturn\u001b[39;00m stream\n",
      "File \u001b[1;32mc:\\Users\\91726\\Desktop\\pythonVenvs\\newProject\\lib\\site-packages\\pyaudio\\__init__.py:441\u001b[0m, in \u001b[0;36mPyAudio.Stream.__init__\u001b[1;34m(self, PA_manager, rate, channels, format, input, output, input_device_index, output_device_index, frames_per_buffer, start, input_host_api_specific_stream_info, output_host_api_specific_stream_info, stream_callback)\u001b[0m\n\u001b[0;32m    438\u001b[0m     arguments[\u001b[39m'\u001b[39m\u001b[39mstream_callback\u001b[39m\u001b[39m'\u001b[39m] \u001b[39m=\u001b[39m stream_callback\n\u001b[0;32m    440\u001b[0m \u001b[39m# calling pa.open returns a stream object\u001b[39;00m\n\u001b[1;32m--> 441\u001b[0m \u001b[39mself\u001b[39m\u001b[39m.\u001b[39m_stream \u001b[39m=\u001b[39m pa\u001b[39m.\u001b[39mopen(\u001b[39m*\u001b[39m\u001b[39m*\u001b[39marguments)\n\u001b[0;32m    443\u001b[0m \u001b[39mself\u001b[39m\u001b[39m.\u001b[39m_input_latency \u001b[39m=\u001b[39m \u001b[39mself\u001b[39m\u001b[39m.\u001b[39m_stream\u001b[39m.\u001b[39minputLatency\n\u001b[0;32m    444\u001b[0m \u001b[39mself\u001b[39m\u001b[39m.\u001b[39m_output_latency \u001b[39m=\u001b[39m \u001b[39mself\u001b[39m\u001b[39m.\u001b[39m_stream\u001b[39m.\u001b[39moutputLatency\n",
      "\u001b[1;31mOSError\u001b[0m: [Errno -9996] Invalid input device (no default output device)"
     ]
    },
    {
     "ename": "",
     "evalue": "",
     "output_type": "error",
     "traceback": [
      "\u001b[1;31mThe Kernel crashed while executing code in the the current cell or a previous cell. Please review the code in the cell(s) to identify a possible cause of the failure. Click <a href='https://aka.ms/vscodeJupyterKernelCrash'>here</a> for more info. View Jupyter <a href='command:jupyter.viewOutput'>log</a> for further details."
     ]
    }
   ],
   "source": [
    "import numpy as np\n",
    "\n",
    "from tensorflow.keras import models\n",
    "\n",
    "from recording_helper import record_audio, terminate\n",
    "from tf_helper import preprocess_audiobuffer\n",
    "\n",
    "# !! Modify this in the correct order\n",
    "commands = ['left', 'down', 'stop', 'up', 'right', 'no', 'go', 'yes']\n",
    "commands = ['down', 'go', 'left', 'no', 'right', 'stop', 'up', 'yes']\n",
    "loaded_model = models.load_model(\"saved_model\")\n",
    "\n",
    "def predict_mic():\n",
    "    audio = record_audio()\n",
    "    spec = preprocess_audiobuffer(audio)\n",
    "    prediction = loaded_model(spec)\n",
    "    max_val = np.max(prediction)\n",
    "    label_pred = [3]\n",
    "    if max_val > 0:\n",
    "        label_pred = np.argmax(prediction, axis=1)\n",
    "    \n",
    "    command = commands[label_pred[0]]\n",
    "    print(\"Predicted label:\", command)\n",
    "    return command\n",
    "seconds_to_wait = 2\n",
    "if __name__ == \"__main__\":\n",
    "    from game import SnakeGameAI, Direction, Point\n",
    "    import time\n",
    "    game = SnakeGameAI()\n",
    "    while True:\n",
    "        time.sleep(seconds_to_wait)\n",
    "        print(\"SPEAK\")\n",
    "        command = predict_mic()\n",
    "        # final_move = [RIGHT, DOWN, LEFT, UP]\n",
    "        final_move = [0, 0, 0, 0]\n",
    "        if command == \"right\":\n",
    "            final_move = [1, 0, 0, 0]\n",
    "        if command == \"down\":\n",
    "            final_move = [0, 1, 0, 0]\n",
    "        if command == \"left\":\n",
    "            final_move = [0, 0, 1, 0]\n",
    "        if command == \"up\":\n",
    "            final_move = [0, 0, 0, 1]\n",
    "        \n",
    "        _, gameover, _ = game.play_step(final_move)\n",
    "        \n",
    "        if gameover:\n",
    "            game.reset()\n",
    "        if command == \"stop\":\n",
    "            game.quit()\n",
    "            terminate()\n",
    "            break"
   ]
  },
  {
   "cell_type": "code",
   "execution_count": 3,
   "id": "73e3ec55",
   "metadata": {},
   "outputs": [
    {
     "name": "stdout",
     "output_type": "stream",
     "text": [
      "0\n",
      "1\n",
      "2\n",
      "3\n",
      "4\n",
      "5\n",
      "6\n",
      "7\n",
      "8\n",
      "9\n"
     ]
    }
   ],
   "source": [
    "import time\n",
    "i = 0\n",
    "while i<10:\n",
    "    time.sleep(1)\n",
    "    print(i)\n",
    "    i+=1"
   ]
  },
  {
   "cell_type": "code",
   "execution_count": null,
   "id": "a0f6aab0",
   "metadata": {},
   "outputs": [],
   "source": []
  }
 ],
 "metadata": {
  "kernelspec": {
   "display_name": "newProject",
   "language": "python",
   "name": "python3"
  },
  "language_info": {
   "codemirror_mode": {
    "name": "ipython",
    "version": 3
   },
   "file_extension": ".py",
   "mimetype": "text/x-python",
   "name": "python",
   "nbconvert_exporter": "python",
   "pygments_lexer": "ipython3",
   "version": "3.9.6"
  }
 },
 "nbformat": 4,
 "nbformat_minor": 5
}
